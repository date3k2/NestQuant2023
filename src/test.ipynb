{
 "cells": [
  {
   "cell_type": "code",
   "execution_count": 1,
   "metadata": {},
   "outputs": [],
   "source": [
    "import os\n",
    "import pandas as pd\n",
    "from dotenv import load_dotenv, find_dotenv\n",
    "import tensorflow as tf\n",
    "\n",
    "load_dotenv(find_dotenv())\n",
    "from crawl import Crawler\n",
    "\n",
    "crawler = Crawler(api_key=os.getenv(\"API_KEY\"))\n",
    "# crawler.download_historical_data(category=\"crypto\", symbol=\"BTC\", location=\"./data\")"
   ]
  },
  {
   "cell_type": "code",
   "execution_count": 2,
   "metadata": {},
   "outputs": [],
   "source": [
    "# Reading data and old labels\n",
    "new_data = pd.read_parquet(\"./data/BTCUSDT/\")\n",
    "old_labels = pd.read_csv(\"./data/labels.csv\", index_col=0)"
   ]
  },
  {
   "cell_type": "code",
   "execution_count": 3,
   "metadata": {},
   "outputs": [
    {
     "data": {
      "text/html": [
       "<div>\n",
       "<style scoped>\n",
       "    .dataframe tbody tr th:only-of-type {\n",
       "        vertical-align: middle;\n",
       "    }\n",
       "\n",
       "    .dataframe tbody tr th {\n",
       "        vertical-align: top;\n",
       "    }\n",
       "\n",
       "    .dataframe thead th {\n",
       "        text-align: right;\n",
       "    }\n",
       "</style>\n",
       "<table border=\"1\" class=\"dataframe\">\n",
       "  <thead>\n",
       "    <tr style=\"text-align: right;\">\n",
       "      <th></th>\n",
       "      <th>OPEN</th>\n",
       "      <th>HIGH</th>\n",
       "      <th>LOW</th>\n",
       "      <th>CLOSE</th>\n",
       "      <th>VOLUME</th>\n",
       "      <th>QUOTE_ASSET_VOLUME</th>\n",
       "      <th>NUMBER_OF_TRADES</th>\n",
       "      <th>TAKER_BUY_BASE_ASSET_VOLUME</th>\n",
       "      <th>TAKER_BUY_QUOTE_ASSET_VOLUME</th>\n",
       "      <th>YEAR_AND_MONTH</th>\n",
       "    </tr>\n",
       "    <tr>\n",
       "      <th>OPEN_TIME</th>\n",
       "      <th></th>\n",
       "      <th></th>\n",
       "      <th></th>\n",
       "      <th></th>\n",
       "      <th></th>\n",
       "      <th></th>\n",
       "      <th></th>\n",
       "      <th></th>\n",
       "      <th></th>\n",
       "      <th></th>\n",
       "    </tr>\n",
       "  </thead>\n",
       "  <tbody>\n",
       "    <tr>\n",
       "      <th>1502942400000</th>\n",
       "      <td>4261.48</td>\n",
       "      <td>4280.56</td>\n",
       "      <td>4261.48</td>\n",
       "      <td>4261.48</td>\n",
       "      <td>2.189061</td>\n",
       "      <td>9333.620962</td>\n",
       "      <td>9</td>\n",
       "      <td>0.489061</td>\n",
       "      <td>2089.104962</td>\n",
       "      <td>201708</td>\n",
       "    </tr>\n",
       "    <tr>\n",
       "      <th>1502942700000</th>\n",
       "      <td>4261.48</td>\n",
       "      <td>4261.48</td>\n",
       "      <td>4261.48</td>\n",
       "      <td>4261.48</td>\n",
       "      <td>0.000000</td>\n",
       "      <td>0.000000</td>\n",
       "      <td>0</td>\n",
       "      <td>0.000000</td>\n",
       "      <td>0.000000</td>\n",
       "      <td>201708</td>\n",
       "    </tr>\n",
       "    <tr>\n",
       "      <th>1502943000000</th>\n",
       "      <td>4261.48</td>\n",
       "      <td>4261.48</td>\n",
       "      <td>4261.48</td>\n",
       "      <td>4261.48</td>\n",
       "      <td>0.000000</td>\n",
       "      <td>0.000000</td>\n",
       "      <td>0</td>\n",
       "      <td>0.000000</td>\n",
       "      <td>0.000000</td>\n",
       "      <td>201708</td>\n",
       "    </tr>\n",
       "    <tr>\n",
       "      <th>1502943300000</th>\n",
       "      <td>4261.48</td>\n",
       "      <td>4264.88</td>\n",
       "      <td>4261.48</td>\n",
       "      <td>4261.48</td>\n",
       "      <td>0.484666</td>\n",
       "      <td>2065.447829</td>\n",
       "      <td>9</td>\n",
       "      <td>0.085455</td>\n",
       "      <td>364.218136</td>\n",
       "      <td>201708</td>\n",
       "    </tr>\n",
       "    <tr>\n",
       "      <th>1502943600000</th>\n",
       "      <td>4264.88</td>\n",
       "      <td>4266.29</td>\n",
       "      <td>4264.88</td>\n",
       "      <td>4266.29</td>\n",
       "      <td>2.328570</td>\n",
       "      <td>9931.161124</td>\n",
       "      <td>11</td>\n",
       "      <td>1.546491</td>\n",
       "      <td>6595.688039</td>\n",
       "      <td>201708</td>\n",
       "    </tr>\n",
       "    <tr>\n",
       "      <th>...</th>\n",
       "      <td>...</td>\n",
       "      <td>...</td>\n",
       "      <td>...</td>\n",
       "      <td>...</td>\n",
       "      <td>...</td>\n",
       "      <td>...</td>\n",
       "      <td>...</td>\n",
       "      <td>...</td>\n",
       "      <td>...</td>\n",
       "      <td>...</td>\n",
       "    </tr>\n",
       "    <tr>\n",
       "      <th>1690126800000</th>\n",
       "      <td>29898.00</td>\n",
       "      <td>29898.01</td>\n",
       "      <td>29894.40</td>\n",
       "      <td>29894.41</td>\n",
       "      <td>8.919730</td>\n",
       "      <td>266664.419999</td>\n",
       "      <td>778</td>\n",
       "      <td>2.553620</td>\n",
       "      <td>76340.981706</td>\n",
       "      <td>202307</td>\n",
       "    </tr>\n",
       "    <tr>\n",
       "      <th>1690127100000</th>\n",
       "      <td>29894.40</td>\n",
       "      <td>29899.57</td>\n",
       "      <td>29894.40</td>\n",
       "      <td>29899.57</td>\n",
       "      <td>19.828990</td>\n",
       "      <td>592819.512826</td>\n",
       "      <td>1080</td>\n",
       "      <td>12.367740</td>\n",
       "      <td>369756.001273</td>\n",
       "      <td>202307</td>\n",
       "    </tr>\n",
       "    <tr>\n",
       "      <th>1690127400000</th>\n",
       "      <td>29899.56</td>\n",
       "      <td>29899.57</td>\n",
       "      <td>29888.38</td>\n",
       "      <td>29888.39</td>\n",
       "      <td>18.528320</td>\n",
       "      <td>553900.170339</td>\n",
       "      <td>1181</td>\n",
       "      <td>2.602970</td>\n",
       "      <td>77815.346448</td>\n",
       "      <td>202307</td>\n",
       "    </tr>\n",
       "    <tr>\n",
       "      <th>1690127700000</th>\n",
       "      <td>29888.38</td>\n",
       "      <td>29897.64</td>\n",
       "      <td>29888.38</td>\n",
       "      <td>29897.64</td>\n",
       "      <td>31.351010</td>\n",
       "      <td>937171.016076</td>\n",
       "      <td>989</td>\n",
       "      <td>26.468580</td>\n",
       "      <td>791203.937831</td>\n",
       "      <td>202307</td>\n",
       "    </tr>\n",
       "    <tr>\n",
       "      <th>1690128000000</th>\n",
       "      <td>29897.64</td>\n",
       "      <td>29897.64</td>\n",
       "      <td>29897.63</td>\n",
       "      <td>29897.63</td>\n",
       "      <td>0.345240</td>\n",
       "      <td>10321.860832</td>\n",
       "      <td>22</td>\n",
       "      <td>0.305100</td>\n",
       "      <td>9121.769964</td>\n",
       "      <td>202307</td>\n",
       "    </tr>\n",
       "  </tbody>\n",
       "</table>\n",
       "<p>622238 rows × 10 columns</p>\n",
       "</div>"
      ],
      "text/plain": [
       "                   OPEN      HIGH       LOW     CLOSE     VOLUME  \\\n",
       "OPEN_TIME                                                          \n",
       "1502942400000   4261.48   4280.56   4261.48   4261.48   2.189061   \n",
       "1502942700000   4261.48   4261.48   4261.48   4261.48   0.000000   \n",
       "1502943000000   4261.48   4261.48   4261.48   4261.48   0.000000   \n",
       "1502943300000   4261.48   4264.88   4261.48   4261.48   0.484666   \n",
       "1502943600000   4264.88   4266.29   4264.88   4266.29   2.328570   \n",
       "...                 ...       ...       ...       ...        ...   \n",
       "1690126800000  29898.00  29898.01  29894.40  29894.41   8.919730   \n",
       "1690127100000  29894.40  29899.57  29894.40  29899.57  19.828990   \n",
       "1690127400000  29899.56  29899.57  29888.38  29888.39  18.528320   \n",
       "1690127700000  29888.38  29897.64  29888.38  29897.64  31.351010   \n",
       "1690128000000  29897.64  29897.64  29897.63  29897.63   0.345240   \n",
       "\n",
       "               QUOTE_ASSET_VOLUME  NUMBER_OF_TRADES  \\\n",
       "OPEN_TIME                                             \n",
       "1502942400000         9333.620962                 9   \n",
       "1502942700000            0.000000                 0   \n",
       "1502943000000            0.000000                 0   \n",
       "1502943300000         2065.447829                 9   \n",
       "1502943600000         9931.161124                11   \n",
       "...                           ...               ...   \n",
       "1690126800000       266664.419999               778   \n",
       "1690127100000       592819.512826              1080   \n",
       "1690127400000       553900.170339              1181   \n",
       "1690127700000       937171.016076               989   \n",
       "1690128000000        10321.860832                22   \n",
       "\n",
       "               TAKER_BUY_BASE_ASSET_VOLUME  TAKER_BUY_QUOTE_ASSET_VOLUME  \\\n",
       "OPEN_TIME                                                                  \n",
       "1502942400000                     0.489061                   2089.104962   \n",
       "1502942700000                     0.000000                      0.000000   \n",
       "1502943000000                     0.000000                      0.000000   \n",
       "1502943300000                     0.085455                    364.218136   \n",
       "1502943600000                     1.546491                   6595.688039   \n",
       "...                                    ...                           ...   \n",
       "1690126800000                     2.553620                  76340.981706   \n",
       "1690127100000                    12.367740                 369756.001273   \n",
       "1690127400000                     2.602970                  77815.346448   \n",
       "1690127700000                    26.468580                 791203.937831   \n",
       "1690128000000                     0.305100                   9121.769964   \n",
       "\n",
       "               YEAR_AND_MONTH  \n",
       "OPEN_TIME                      \n",
       "1502942400000          201708  \n",
       "1502942700000          201708  \n",
       "1502943000000          201708  \n",
       "1502943300000          201708  \n",
       "1502943600000          201708  \n",
       "...                       ...  \n",
       "1690126800000          202307  \n",
       "1690127100000          202307  \n",
       "1690127400000          202307  \n",
       "1690127700000          202307  \n",
       "1690128000000          202307  \n",
       "\n",
       "[622238 rows x 10 columns]"
      ]
     },
     "execution_count": 3,
     "metadata": {},
     "output_type": "execute_result"
    }
   ],
   "source": [
    "new_data"
   ]
  },
  {
   "cell_type": "code",
   "execution_count": 4,
   "metadata": {},
   "outputs": [],
   "source": [
    "btc_price = pd.DataFrame(index=pd.to_datetime(new_data.index[-5000:], unit=\"ms\"))\n",
    "btc_price[\"PRICE\"] = (\n",
    "    ((new_data[\"HIGH\"] + new_data[\"LOW\"] + new_data[\"CLOSE\"]) / 3).tail(5000).values\n",
    ")"
   ]
  },
  {
   "cell_type": "code",
   "execution_count": 5,
   "metadata": {},
   "outputs": [],
   "source": [
    "# New training and test data set\n",
    "from ulti import calculate_R_V, make_train_set, model_forecast\n",
    "new_R_V = calculate_R_V(101, btc_price)\n",
    "training_data = make_train_set(15, new_R_V[:-15], 1)"
   ]
  },
  {
   "cell_type": "code",
   "execution_count": 6,
   "metadata": {},
   "outputs": [],
   "source": [
    "# Load the pre-trained model\n",
    "tf.random.set_seed(1012)\n",
    "model = tf.keras.models.load_model(\"./nq.h5\")\n",
    "# model.fit(training_data, epochs=5)"
   ]
  },
  {
   "cell_type": "code",
   "execution_count": 8,
   "metadata": {},
   "outputs": [],
   "source": [
    "# Brownian motion\n",
    "from sklearn.preprocessing import MinMaxScaler\n",
    "import numpy as np\n",
    "mu = 0.1\n",
    "n = 500\n",
    "dt = 1e-5\n",
    "x0 = 1\n",
    "sigma = 0.3\n",
    "p_bm = np.exp((mu - sigma**2 / 2) * dt + sigma * np.random.normal(0, dt, n))\n",
    "p_bm = MinMaxScaler().fit_transform(p_bm.reshape(-1, 1)).flatten()"
   ]
  },
  {
   "cell_type": "code",
   "execution_count": 9,
   "metadata": {},
   "outputs": [
    {
     "name": "stdout",
     "output_type": "stream",
     "text": [
      "1/1 [==============================] - 3s 3s/step\n"
     ]
    }
   ],
   "source": [
    "predicton = model_forecast(model, new_R_V[-15:], 15).reshape(2)"
   ]
  },
  {
   "cell_type": "markdown",
   "metadata": {},
   "source": [
    "## Calculate raw labels and save"
   ]
  },
  {
   "cell_type": "code",
   "execution_count": 13,
   "metadata": {},
   "outputs": [],
   "source": [
    "pred_labels = predicton[0] / (\n",
    "    2 * np.sqrt(predicton[1] * np.random.choice(p_bm, size=1))\n",
    ")\n",
    "new_labels = np.vstack((old_labels.values, [pred_labels]))\n"
   ]
  },
  {
   "cell_type": "code",
   "execution_count": 106,
   "metadata": {},
   "outputs": [],
   "source": [
    "pd.DataFrame(new_labels[-6000:-1]).to_csv(\"./data/labels.csv\")"
   ]
  },
  {
   "cell_type": "code",
   "execution_count": 104,
   "metadata": {},
   "outputs": [
    {
     "name": "stdout",
     "output_type": "stream",
     "text": [
      "1690135200000\n"
     ]
    }
   ],
   "source": [
    "# Calculate scaled prediction\n",
    "prediction = MinMaxScaler().fit_transform(new_labels)[-1][0]\n",
    "submit_hour = (pd.Timestamp.now().ceil(freq=\"H\") - pd.Timedelta(\"7H\")).value // 10**6\n",
    "print(submit_hour)"
   ]
  },
  {
   "cell_type": "code",
   "execution_count": 105,
   "metadata": {},
   "outputs": [
    {
     "data": {
      "text/plain": [
       "[{'OPEN_TIME': 1690135200000, 'PREDICTION': 0.46727589260202684}]"
      ]
     },
     "execution_count": 105,
     "metadata": {},
     "output_type": "execute_result"
    }
   ],
   "source": [
    "submission = pd.DataFrame(\n",
    "    index=[0], data={\"OPEN_TIME\": submit_hour, \"PREDICTION\": prediction}\n",
    ")\n",
    "submission = submission.to_dict(orient=\"records\", index=True)\n",
    "submission"
   ]
  },
  {
   "cell_type": "code",
   "execution_count": 125,
   "metadata": {},
   "outputs": [
    {
     "data": {
      "text/plain": [
       "(402, 2)"
      ]
     },
     "execution_count": 125,
     "metadata": {},
     "output_type": "execute_result"
    }
   ],
   "source": [
    "new_R_V[:-15].shape"
   ]
  },
  {
   "cell_type": "code",
   "execution_count": 66,
   "metadata": {},
   "outputs": [
    {
     "data": {
      "text/plain": [
       "'1690123004422'"
      ]
     },
     "execution_count": 66,
     "metadata": {},
     "output_type": "execute_result"
    }
   ],
   "source": [
    "from submit import Submission\n",
    "\n",
    "api_submit = Submission(api_key=os.getenv(\"API_KEY\"))\n",
    "api_submit.submit(False, submission, \"BTCUSDT\")"
   ]
  },
  {
   "cell_type": "code",
   "execution_count": 112,
   "metadata": {},
   "outputs": [
    {
     "name": "stderr",
     "output_type": "stream",
     "text": [
      "c:\\Users\\nguye\\Downloads\\NestQuant\\.venv\\Lib\\site-packages\\keras\\src\\engine\\training.py:3000: UserWarning: You are saving your model as an HDF5 file via `model.save()`. This file format is considered legacy. We recommend using instead the native Keras format, e.g. `model.save('my_model.keras')`.\n",
      "  saving_api.save_model(\n"
     ]
    }
   ],
   "source": [
    "model.save(\"./nq.h5\")"
   ]
  }
 ],
 "metadata": {
  "kernelspec": {
   "display_name": ".venv",
   "language": "python",
   "name": "python3"
  },
  "language_info": {
   "codemirror_mode": {
    "name": "ipython",
    "version": 3
   },
   "file_extension": ".py",
   "mimetype": "text/x-python",
   "name": "python",
   "nbconvert_exporter": "python",
   "pygments_lexer": "ipython3",
   "version": "3.11.0"
  },
  "orig_nbformat": 4
 },
 "nbformat": 4,
 "nbformat_minor": 2
}
